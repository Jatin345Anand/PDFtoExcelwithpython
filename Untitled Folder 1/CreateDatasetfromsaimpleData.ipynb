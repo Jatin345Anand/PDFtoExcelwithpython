{
 "cells": [
  {
   "cell_type": "code",
   "execution_count": 1,
   "metadata": {},
   "outputs": [],
   "source": [
    "file = open('/Users/jatinanand/Desktop/JATINDOCUMENTSMARKSHEET/code_1 2/demo.txt', 'r')\n",
    "\n"
   ]
  },
  {
   "cell_type": "code",
   "execution_count": 14,
   "metadata": {},
   "outputs": [
    {
     "data": {
      "text/plain": [
       "15"
      ]
     },
     "execution_count": 14,
     "metadata": {},
     "output_type": "execute_result"
    }
   ],
   "source": [
    "file.seek(15)\n"
   ]
  },
  {
   "cell_type": "code",
   "execution_count": 15,
   "metadata": {},
   "outputs": [],
   "source": [
    "data = file.readlines()\n"
   ]
  },
  {
   "cell_type": "code",
   "execution_count": 16,
   "metadata": {},
   "outputs": [
    {
     "data": {
      "text/plain": [
       "['Id  101\\n',\n",
       " 'Name  Ram\\n',\n",
       " \"Grade  'A'\\n\",\n",
       " 'Id  102\\n',\n",
       " 'Name  Shyam\\n',\n",
       " \"Grade  'B'\\n\",\n",
       " 'Id  103\\n',\n",
       " 'Name  Anuj\\n',\n",
       " \"Grade  'A+'\\n\",\n",
       " 'Id  104\\n',\n",
       " 'Name  Arjun\\n',\n",
       " \"Grade  'B+'\"]"
      ]
     },
     "execution_count": 16,
     "metadata": {},
     "output_type": "execute_result"
    }
   ],
   "source": [
    "data \n",
    "\n",
    "\n",
    "\n",
    "\n"
   ]
  },
  {
   "cell_type": "code",
   "execution_count": 17,
   "metadata": {},
   "outputs": [
    {
     "name": "stdout",
     "output_type": "stream",
     "text": [
      "[['Id  101\\n', 'Name  Ram\\n', \"Grade  'A'\\n\"], ['Id  102\\n', 'Name  Shyam\\n', \"Grade  'B'\\n\"], ['Id  103\\n', 'Name  Anuj\\n', \"Grade  'A+'\\n\"], ['Id  104\\n', 'Name  Arjun\\n', \"Grade  'B+'\"]]\n"
     ]
    }
   ],
   "source": [
    "students = []\n",
    "\n",
    "k = 0\n",
    "start = 0\n",
    "stop = 3\n",
    "while k < 4:\n",
    "    s = []\n",
    "    for j in range(start, stop):\n",
    "        s.append(data[j])\n",
    "    start += 3\n",
    "    stop += 3\n",
    "    students.append(s)\n",
    "    k += 1\n",
    "\n",
    "print(students)\n",
    "\n"
   ]
  },
  {
   "cell_type": "code",
   "execution_count": 18,
   "metadata": {},
   "outputs": [],
   "source": [
    " import pandas as pd"
   ]
  },
  {
   "cell_type": "code",
   "execution_count": 19,
   "metadata": {},
   "outputs": [],
   "source": [
    " df = pd.DataFrame(students)"
   ]
  },
  {
   "cell_type": "code",
   "execution_count": 20,
   "metadata": {},
   "outputs": [
    {
     "data": {
      "text/html": [
       "<div>\n",
       "<style scoped>\n",
       "    .dataframe tbody tr th:only-of-type {\n",
       "        vertical-align: middle;\n",
       "    }\n",
       "\n",
       "    .dataframe tbody tr th {\n",
       "        vertical-align: top;\n",
       "    }\n",
       "\n",
       "    .dataframe thead th {\n",
       "        text-align: right;\n",
       "    }\n",
       "</style>\n",
       "<table border=\"1\" class=\"dataframe\">\n",
       "  <thead>\n",
       "    <tr style=\"text-align: right;\">\n",
       "      <th></th>\n",
       "      <th>0</th>\n",
       "      <th>1</th>\n",
       "      <th>2</th>\n",
       "    </tr>\n",
       "  </thead>\n",
       "  <tbody>\n",
       "    <tr>\n",
       "      <th>0</th>\n",
       "      <td>Id  101\\n</td>\n",
       "      <td>Name  Ram\\n</td>\n",
       "      <td>Grade  'A'\\n</td>\n",
       "    </tr>\n",
       "    <tr>\n",
       "      <th>1</th>\n",
       "      <td>Id  102\\n</td>\n",
       "      <td>Name  Shyam\\n</td>\n",
       "      <td>Grade  'B'\\n</td>\n",
       "    </tr>\n",
       "    <tr>\n",
       "      <th>2</th>\n",
       "      <td>Id  103\\n</td>\n",
       "      <td>Name  Anuj\\n</td>\n",
       "      <td>Grade  'A+'\\n</td>\n",
       "    </tr>\n",
       "    <tr>\n",
       "      <th>3</th>\n",
       "      <td>Id  104\\n</td>\n",
       "      <td>Name  Arjun\\n</td>\n",
       "      <td>Grade  'B+'</td>\n",
       "    </tr>\n",
       "  </tbody>\n",
       "</table>\n",
       "</div>"
      ],
      "text/plain": [
       "           0              1              2\n",
       "0  Id  101\\n    Name  Ram\\n   Grade  'A'\\n\n",
       "1  Id  102\\n  Name  Shyam\\n   Grade  'B'\\n\n",
       "2  Id  103\\n   Name  Anuj\\n  Grade  'A+'\\n\n",
       "3  Id  104\\n  Name  Arjun\\n    Grade  'B+'"
      ]
     },
     "execution_count": 20,
     "metadata": {},
     "output_type": "execute_result"
    }
   ],
   "source": [
    "  df\n"
   ]
  },
  {
   "cell_type": "code",
   "execution_count": null,
   "metadata": {},
   "outputs": [],
   "source": []
  }
 ],
 "metadata": {
  "kernelspec": {
   "display_name": "Python 3",
   "language": "python",
   "name": "python3"
  },
  "language_info": {
   "codemirror_mode": {
    "name": "ipython",
    "version": 3
   },
   "file_extension": ".py",
   "mimetype": "text/x-python",
   "name": "python",
   "nbconvert_exporter": "python",
   "pygments_lexer": "ipython3",
   "version": "3.6.5"
  }
 },
 "nbformat": 4,
 "nbformat_minor": 2
}
